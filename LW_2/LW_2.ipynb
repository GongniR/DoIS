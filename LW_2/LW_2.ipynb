{
 "cells": [
  {
   "cell_type": "code",
   "execution_count": 1,
   "metadata": {},
   "outputs": [],
   "source": [
    "import numpy as np \n",
    "from tensorflow.keras.datasets import mnist\n",
    "import matplotlib.pyplot as plt"
   ]
  },
  {
   "cell_type": "code",
   "execution_count": 2,
   "metadata": {},
   "outputs": [],
   "source": [
    "def to_categorical(label_array, count_number=10):\n",
    "    \"\"\"Пердставить лейбал в виде массива со значением\"\"\"\n",
    "    label_array = np.array(label_array) \n",
    "    n = label_array.shape[0]\n",
    "    categorical = np.zeros((n, count_number))\n",
    "    categorical[np.arange(n), label_array] = 1\n",
    "    return categorical\n"
   ]
  },
  {
   "cell_type": "code",
   "execution_count": 19,
   "metadata": {},
   "outputs": [],
   "source": [
    "def load_data():\n",
    "    \"\"\"Загрузка датасета\"\"\"\n",
    "    (train_X, train_Y), (test_X, test_Y) = mnist.load_data()\n",
    "\n",
    "    print(train_X.shape)\n",
    "    # преобразование в 1 канал \n",
    "    train_X = train_X.reshape((train_X.shape[0], 28, 28))/255.\n",
    "    test_X = test_X.reshape((test_X.shape[0], 28, 28))/255.\n",
    "    \n",
    "    # перевод в one hot encoder \n",
    "    train_Y = to_categorical(train_Y)\n",
    "    test_Y = to_categorical(test_Y)\n",
    "\n",
    "    return (train_X.round(), train_Y), (test_X.round(), test_Y)"
   ]
  },
  {
   "cell_type": "code",
   "execution_count": 20,
   "metadata": {},
   "outputs": [
    {
     "name": "stdout",
     "output_type": "stream",
     "text": [
      "(60000, 28, 28)\n"
     ]
    }
   ],
   "source": [
    "(train_X, train_Y), (test_X, test_Y) = load_data()"
   ]
  },
  {
   "cell_type": "code",
   "execution_count": 21,
   "metadata": {},
   "outputs": [
    {
     "data": {
      "text/plain": [
       "1.0"
      ]
     },
     "execution_count": 21,
     "metadata": {},
     "output_type": "execute_result"
    }
   ],
   "source": [
    "train_X[1].max()"
   ]
  },
  {
   "cell_type": "code",
   "execution_count": 22,
   "metadata": {},
   "outputs": [
    {
     "data": {
      "text/plain": [
       "array([[0., 0., 0., 0., 0., 1., 0., 0., 0., 0.],\n",
       "       [1., 0., 0., 0., 0., 0., 0., 0., 0., 0.],\n",
       "       [0., 0., 0., 0., 1., 0., 0., 0., 0., 0.],\n",
       "       [0., 1., 0., 0., 0., 0., 0., 0., 0., 0.],\n",
       "       [0., 0., 0., 0., 0., 0., 0., 0., 0., 1.],\n",
       "       [0., 0., 1., 0., 0., 0., 0., 0., 0., 0.],\n",
       "       [0., 1., 0., 0., 0., 0., 0., 0., 0., 0.],\n",
       "       [0., 0., 0., 1., 0., 0., 0., 0., 0., 0.],\n",
       "       [0., 1., 0., 0., 0., 0., 0., 0., 0., 0.],\n",
       "       [0., 0., 0., 0., 1., 0., 0., 0., 0., 0.]])"
      ]
     },
     "execution_count": 22,
     "metadata": {},
     "output_type": "execute_result"
    }
   ],
   "source": [
    "train_Y[:10]"
   ]
  },
  {
   "cell_type": "code",
   "execution_count": 23,
   "metadata": {},
   "outputs": [
    {
     "data": {
      "image/png": "[encoded data removed]",
      "text/plain": [
       "<Figure size 640x480 with 10 Axes>"
      ]
     },
     "metadata": {},
     "output_type": "display_data"
    }
   ],
   "source": [
    "f  = plt.figure()\n",
    "for i, image  in enumerate(train_X[:10]):\n",
    "    f.add_subplot(1,10, i+1)\n",
    "    plt.imshow(image, cmap=\"gray\")\n",
    "plt.show()"
   ]
  },
  {
   "cell_type": "code",
   "execution_count": null,
   "metadata": {},
   "outputs": [],
   "source": []
  },
  {
   "cell_type": "code",
   "execution_count": 24,
   "metadata": {},
   "outputs": [],
   "source": [
    "class Perceptron:\n",
    "    \"\"\"Класс для перцептрона\"\"\"\n",
    "    def __init__ (self, input_shape, output_shape):\n",
    "        # Xavier initialization\n",
    "        stdv = 1/np.sqrt(input_shape)\n",
    "        self.W = np.random.uniform(-stdv, stdv, size=(input_shape, output_shape))\n",
    "        self.b = np.random.uniform(-stdv, stdv, size=output_shape)\n",
    "    \n",
    "    #функция активации \n",
    "\n",
    "    def __ReLU(self, x):\n",
    "        return np.maximum(0,x)\n",
    "\n",
    "    def __dReLU(self,x):\n",
    "        return 1 * (x > 0) \n",
    "\n",
    "    def __softmax(self, z):\n",
    "        z = z - np.max(z, axis = 1).reshape(z.shape[0],1)\n",
    "        return np.exp(z) / np.sum(np.exp(z), axis = 1).reshape(z.shape[0],1)\n",
    "\n",
    "    def forward(self, input):\n",
    "        self.output = np.dot(input, self.W)\n",
    "        self.output += self.b \n",
    "        return self.output   \n",
    "        \n",
    "    def train():\n",
    "        "
   ]
  },
  {
   "cell_type": "code",
   "execution_count": null,
   "metadata": {},
   "outputs": [],
   "source": []
  }
 ],
 "metadata": {
  "kernelspec": {
   "display_name": "Mag",
   "language": "python",
   "name": "python3"
  },
  "language_info": {
   "codemirror_mode": {
    "name": "ipython",
    "version": 3
   },
   "file_extension": ".py",
   "mimetype": "text/x-python",
   "name": "python",
   "nbconvert_exporter": "python",
   "pygments_lexer": "ipython3",
   "version": "3.8.13"
  },
  "orig_nbformat": 4
 },
 "nbformat": 4,
 "nbformat_minor": 2
}
